{
  "nbformat": 4,
  "nbformat_minor": 0,
  "metadata": {
    "colab": {
      "provenance": [],
      "toc_visible": true,
      "authorship_tag": "ABX9TyOEAhaKLROh62/EGH3nQxvy",
      "include_colab_link": true
    },
    "kernelspec": {
      "name": "python3",
      "display_name": "Python 3"
    },
    "language_info": {
      "name": "python"
    }
  },
  "cells": [
    {
      "cell_type": "markdown",
      "metadata": {
        "id": "view-in-github",
        "colab_type": "text"
      },
      "source": [
        "<a href=\"https://colab.research.google.com/github/saifhmb/Credit-Card-Risk-Assessment-Model/blob/main/ARIMA_modeling_template.ipynb\" target=\"_parent\"><img src=\"https://colab.research.google.com/assets/colab-badge.svg\" alt=\"Open In Colab\"/></a>"
      ]
    },
    {
      "cell_type": "markdown",
      "source": [
        "# Import Libraries"
      ],
      "metadata": {
        "id": "yfoRsax0TyWM"
      }
    },
    {
      "cell_type": "code",
      "source": [
        "import pandas as pd\n",
        "import numpy as np\n",
        "import matplotlib.pyplot as plt\n",
        "from statsmodels.tsa.stattools import adfuller\n",
        "from statsmodels.graphics.tsaplots import plot_acf, plot_pacf\n",
        "from statsmodels.tsa.arima.model import ARIMA"
      ],
      "metadata": {
        "id": "JbfSHuJ5UF5t"
      },
      "execution_count": null,
      "outputs": []
    },
    {
      "cell_type": "markdown",
      "source": [
        "# *Identification*"
      ],
      "metadata": {
        "id": "Gi_I3hnVSTYb"
      }
    },
    {
      "cell_type": "markdown",
      "source": [
        "## Plot the time series - df.plot()\n",
        "\n"
      ],
      "metadata": {
        "id": "pHSTI4h-SeIa"
      }
    },
    {
      "cell_type": "code",
      "execution_count": null,
      "metadata": {
        "id": "wWSskA4USLFt"
      },
      "outputs": [],
      "source": []
    },
    {
      "cell_type": "markdown",
      "source": [
        "## Use augmented Dicky-Fuller test - adfuller( )"
      ],
      "metadata": {
        "id": "tU20CdAlSw7e"
      }
    },
    {
      "cell_type": "code",
      "source": [],
      "metadata": {
        "id": "5pdCIq-IS39a"
      },
      "execution_count": null,
      "outputs": []
    },
    {
      "cell_type": "markdown",
      "source": [
        "## Use transforms and/or differencing if Dicky-Fuller test reveals time series is non-stationary\n",
        "\n",
        "\n",
        "*   df.diff(), np.log(), np.sqrt()\n",
        "\n"
      ],
      "metadata": {
        "id": "sQS-dmgZS8d4"
      }
    },
    {
      "cell_type": "code",
      "source": [],
      "metadata": {
        "id": "0A51oHL_TUje"
      },
      "execution_count": null,
      "outputs": []
    },
    {
      "cell_type": "markdown",
      "source": [
        "## Plot ACF/PACF - plot_acf( ), plot_pacf( )"
      ],
      "metadata": {
        "id": "szJ527oLTg2D"
      }
    },
    {
      "cell_type": "code",
      "source": [],
      "metadata": {
        "id": "hClDk1v7Trl2"
      },
      "execution_count": null,
      "outputs": []
    },
    {
      "cell_type": "markdown",
      "source": [
        "# Estimation"
      ],
      "metadata": {
        "id": "PaTIPFG9Tvyb"
      }
    },
    {
      "cell_type": "markdown",
      "source": [
        "## Use the data to train the model coefficients - ARIMA( ), model.fit()"
      ],
      "metadata": {
        "id": "YmSGBpJCVbYx"
      }
    },
    {
      "cell_type": "code",
      "source": [],
      "metadata": {
        "id": "AIDswiaUVaIP"
      },
      "execution_count": null,
      "outputs": []
    },
    {
      "cell_type": "markdown",
      "source": [
        "## Choose between models using AIC and BIC - results.aic, results.bic"
      ],
      "metadata": {
        "id": "ayNfHKtMWghs"
      }
    },
    {
      "cell_type": "code",
      "source": [],
      "metadata": {
        "id": "KjGZp1NOWkXl"
      },
      "execution_count": null,
      "outputs": []
    },
    {
      "cell_type": "markdown",
      "source": [
        "# Model diagnostics"
      ],
      "metadata": {
        "id": "iJFQjtogWt6C"
      }
    },
    {
      "cell_type": "markdown",
      "source": [
        "## Determine whether residuals are uncorrelated and normally distributed - results.plot_diagnostics(), results.summary()"
      ],
      "metadata": {
        "id": "wwzbrcnFW07H"
      }
    },
    {
      "cell_type": "code",
      "source": [],
      "metadata": {
        "id": "eB_lkx1iWztF"
      },
      "execution_count": null,
      "outputs": []
    },
    {
      "cell_type": "markdown",
      "source": [
        "# Production"
      ],
      "metadata": {
        "id": "HOJ0RjAXXSqV"
      }
    },
    {
      "cell_type": "markdown",
      "source": [
        "## Make forecasts - results.get_forecast().predicted_mean\n",
        "\n",
        "---\n",
        "\n"
      ],
      "metadata": {
        "id": "65m1Dq9TXVTz"
      }
    },
    {
      "cell_type": "code",
      "source": [],
      "metadata": {
        "id": "FP5VBJLsXUf0"
      },
      "execution_count": null,
      "outputs": []
    }
  ]
}